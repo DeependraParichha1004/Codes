{
  "cells": [
    {
      "cell_type": "markdown",
      "metadata": {
        "colab_type": "text",
        "id": "view-in-github"
      },
      "source": [
        "<a href=\"https://colab.research.google.com/github/DeependraParichha1004/NLP/blob/main/ML_Toolkit.ipynb\" target=\"_parent\"><img src=\"https://colab.research.google.com/assets/colab-badge.svg\" alt=\"Open In Colab\"/></a>"
      ]
    },
    {
      "cell_type": "markdown",
      "id": "hNE5gkNkfQoO",
      "metadata": {
        "id": "hNE5gkNkfQoO"
      },
      "source": [
        "<img alt=\"The image is displaying the types of machine learning models with various machine learning algorithms.\" class=\"images\" src=\"https://lh5.googleusercontent.com/tsxsuHdTixFaQXyy49gwvMGGnO5rfq86-RMTrjaOgHkg7x8rjmFmEIlaSCexGuYm3oUh4Wx8KYkLeKCQ3g9t_svonY9euo1HAx-nyAvYKQMFufCQn1CvDuT3xgV61hLq-G21aHkr\" style=\"height: 468px; width: 624px; user-select: auto;\" title=\"Machine Learning Algorithms chart\">"
      ]
    },
    {
      "cell_type": "markdown",
      "id": "5ec64071",
      "metadata": {
        "id": "5ec64071"
      },
      "source": [
        "<center><h1>PreProcessing</h1></center> "
      ]
    },
    {
      "cell_type": "markdown",
      "id": "b4aa9bcc",
      "metadata": {
        "id": "b4aa9bcc"
      },
      "source": [
        "# -- Importing Important Modules"
      ]
    },
    {
      "cell_type": "code",
      "execution_count": 1,
      "id": "9d92e4a4",
      "metadata": {
        "id": "9d92e4a4"
      },
      "outputs": [],
      "source": [
        "import numpy as np\n",
        "import pandas as pd\n",
        "import matplotlib.pyplot as plt\n",
        "import tensorflow as tf\n",
        "import seaborn as sb\n",
        "import os\n",
        "import zipfile"
      ]
    },
    {
      "cell_type": "markdown",
      "id": "638846bb",
      "metadata": {
        "id": "638846bb"
      },
      "source": [
        "# -- Working With Missing Features "
      ]
    },
    {
      "cell_type": "markdown",
      "id": "57b58dcf",
      "metadata": {
        "id": "57b58dcf"
      },
      "source": [
        "## (1) Highly Recommended "
      ]
    },
    {
      "cell_type": "code",
      "execution_count": null,
      "id": "a90f8089",
      "metadata": {
        "id": "a90f8089"
      },
      "outputs": [],
      "source": [
        "#get all the features(rows) of all r attribute with missing values from whole dataset\n",
        "missing_value_rows=dataset_name[dataset_name.isnull().any(axis=1)].head()#head() is optional\n",
        "\n",
        "#generate the median of that attribute\n",
        "median=dataset_name['attribute_name'].median()\n",
        "\n",
        "#fill that median into the missing feature values\n",
        "dataset_name['attribute_name'].fillna(median,inplace=True)"
      ]
    },
    {
      "cell_type": "code",
      "execution_count": null,
      "id": "61a760c2",
      "metadata": {
        "id": "61a760c2"
      },
      "outputs": [],
      "source": [
        "#fillna = missing_value_rows.fillna(value=dataset_name, method=None, axis=None, inplace=False, limit=None, downcast=None)\n",
        "#Fill NA/NaN values using the specified method."
      ]
    },
    {
      "cell_type": "code",
      "execution_count": null,
      "id": "at2K3qOvKI5Z",
      "metadata": {
        "id": "at2K3qOvKI5Z"
      },
      "outputs": [],
      "source": [
        "new_dataset = dataset.fillna({'Column_1':'value_1','Column_2':'value_2'})"
      ]
    },
    {
      "cell_type": "markdown",
      "id": "f899bc94",
      "metadata": {
        "id": "f899bc94"
      },
      "source": [
        "## use of inplace"
      ]
    },
    {
      "cell_type": "code",
      "execution_count": null,
      "id": "e7ef3010",
      "metadata": {
        "id": "e7ef3010"
      },
      "outputs": [],
      "source": [
        "use of inplace\n",
        "\n",
        "if inplace = True # operation is performed and nothing is returned.\n",
        "\n",
        "if inplace = False # operation is performed and it returns a new copy of data."
      ]
    },
    {
      "cell_type": "markdown",
      "id": "3a3dcdd5",
      "metadata": {
        "id": "3a3dcdd5"
      },
      "source": [
        "# OR"
      ]
    },
    {
      "cell_type": "markdown",
      "id": "43a3a693",
      "metadata": {
        "id": "43a3a693"
      },
      "source": [
        "## (2)"
      ]
    },
    {
      "cell_type": "code",
      "execution_count": null,
      "id": "852ae0e9",
      "metadata": {
        "id": "852ae0e9"
      },
      "outputs": [],
      "source": [
        "#Another approach is to use SimpleImputer class \n",
        "from sklearn.impute import SimpleImputer\n",
        "\n",
        "#instance of the class to specify which method(strategy) to use\n",
        "imputer=SimpleImputer(strategy='median')\n",
        "\n",
        "#NOTE - It is safer to apply the imputer to all the numerical attributes\n",
        "#fit the instance to the training data\n",
        "imputer.fit('dataset_name')\n",
        "\n",
        "#transform the training set by replacing missing values with learned medians\n",
        "dataset_name=imputer.transform('dataset_name')"
      ]
    },
    {
      "cell_type": "markdown",
      "id": "c36f35d5",
      "metadata": {
        "id": "c36f35d5"
      },
      "source": [
        "# -- Dropping a Column"
      ]
    },
    {
      "cell_type": "markdown",
      "id": "dce93dfe",
      "metadata": {
        "id": "dce93dfe"
      },
      "source": [
        "## (1)"
      ]
    },
    {
      "cell_type": "code",
      "execution_count": null,
      "id": "20e5898f",
      "metadata": {
        "id": "20e5898f"
      },
      "outputs": [],
      "source": [
        "drop_dataset=dataset_name.drop(\"column_name\",axis=1)\n",
        "# Return new object with labels in requested axis removed.\n",
        "# in other words create a copy and doesn't affect the original data"
      ]
    },
    {
      "cell_type": "markdown",
      "id": "6d7ea074",
      "metadata": {
        "id": "6d7ea074"
      },
      "source": [
        "## (2)"
      ]
    },
    {
      "cell_type": "code",
      "execution_count": null,
      "id": "cb968fa2",
      "metadata": {
        "id": "cb968fa2"
      },
      "outputs": [],
      "source": [
        "drop_dataset=dataset_name.dropna(\"column_name\",axis=1)\n",
        "# Return object with labels on given axis omitted where alternately any or all of the data are missing"
      ]
    },
    {
      "cell_type": "markdown",
      "id": "780c72a8",
      "metadata": {
        "id": "780c72a8"
      },
      "source": [
        "# -- A trick when you want to flatten a matrix X of shape (a,b,c,d) to a matrix X_flatten of shape (b ∗ c ∗ d, a) is to use:\n",
        "\n"
      ]
    },
    {
      "cell_type": "code",
      "execution_count": null,
      "id": "10ff4bd3",
      "metadata": {
        "id": "10ff4bd3"
      },
      "outputs": [],
      "source": [
        "X_flatten = X.reshape(X.shape[0], -1).T      # X.T is the transpose of X"
      ]
    },
    {
      "cell_type": "markdown",
      "id": "b66043eb",
      "metadata": {
        "id": "b66043eb"
      },
      "source": [
        "# -- Fetching dataset from openml(open source Library)"
      ]
    },
    {
      "cell_type": "code",
      "execution_count": null,
      "id": "c99678e6",
      "metadata": {
        "id": "c99678e6"
      },
      "outputs": [],
      "source": [
        "from sklearn.datasets import fetch_openml\n",
        "mnist=fetch_openml('dataset_name',version=1,as_frame=False)\n",
        "dataset_name\n",
        "#     ^\n",
        "#     |\n",
        "# Dictionary Structure"
      ]
    },
    {
      "cell_type": "markdown",
      "id": "05fc0e14",
      "metadata": {
        "id": "05fc0e14"
      },
      "source": [
        "# -- value_counts()"
      ]
    },
    {
      "cell_type": "code",
      "execution_count": null,
      "id": "02fdb6a7",
      "metadata": {
        "id": "02fdb6a7"
      },
      "outputs": [],
      "source": [
        "# This method Gives you the frequency of the values"
      ]
    },
    {
      "cell_type": "markdown",
      "id": "TFJEg9eZgshb",
      "metadata": {
        "id": "TFJEg9eZgshb"
      },
      "source": [
        "# -- datetime"
      ]
    },
    {
      "cell_type": "code",
      "execution_count": null,
      "id": "qxZl1Pd2g0WJ",
      "metadata": {
        "id": "qxZl1Pd2g0WJ"
      },
      "outputs": [],
      "source": [
        "# code\n",
        "\n",
        "dataset[feature]=pd.to_datetime(dataset[feature])"
      ]
    },
    {
      "cell_type": "markdown",
      "id": "IpAKpJLbrLqD",
      "metadata": {
        "id": "IpAKpJLbrLqD"
      },
      "source": [
        "# -- str.split()"
      ]
    },
    {
      "cell_type": "code",
      "execution_count": null,
      "id": "Ne8s-3CZrUjq",
      "metadata": {
        "id": "Ne8s-3CZrUjq"
      },
      "outputs": [],
      "source": [
        "# code \n",
        "\n",
        "ex - players['height']=players['height'].str.split('-').str[0].astype(int)"
      ]
    },
    {
      "cell_type": "markdown",
      "id": "5mXO_8XIr5x8",
      "metadata": {
        "id": "5mXO_8XIr5x8"
      },
      "source": [
        "# pandas.DataFrame.query()"
      ]
    },
    {
      "cell_type": "code",
      "execution_count": null,
      "id": "-MYEGVnwr4D1",
      "metadata": {
        "id": "-MYEGVnwr4D1"
      },
      "outputs": [],
      "source": [
        "Query the columns of a DataFrame with a boolean expression.\n",
        "\n",
        "dataset_name.query('column > 0')"
      ]
    },
    {
      "cell_type": "markdown",
      "id": "755ef0a1",
      "metadata": {
        "id": "755ef0a1"
      },
      "source": [
        "# -- Encoding categorical data"
      ]
    },
    {
      "cell_type": "markdown",
      "id": "d0bbdb82",
      "metadata": {
        "id": "d0bbdb82"
      },
      "source": [
        "## (1) OneHotEncoder"
      ]
    },
    {
      "cell_type": "code",
      "execution_count": null,
      "id": "4b477052",
      "metadata": {
        "id": "4b477052"
      },
      "outputs": [],
      "source": [
        "from sklearn.compose import ColumnTransformer\n",
        "from sklearn.preprocesssng import OneHotEncoder\n",
        "ct=ColumnTransformer(transformers=[('encoder',OneHotEncoder(),column_name)],remainder=\"passthrough\")\n",
        "data_to_be_transformed=np.array(ct.fit_transform(data_to_be_transformed))#fit_transform doesn't return as numpy array "
      ]
    },
    {
      "cell_type": "markdown",
      "id": "5fbbe39e",
      "metadata": {
        "id": "5fbbe39e"
      },
      "source": [
        "## (2) LabelEncoder"
      ]
    },
    {
      "cell_type": "code",
      "execution_count": null,
      "id": "6ccef87c",
      "metadata": {
        "id": "6ccef87c"
      },
      "outputs": [],
      "source": [
        "from sklearn.preprocesssng import LabelEncoder\n",
        "le=LabelEncooder()\n",
        "labels=le.fit_transform(labels)#here labels mean target values (target column)"
      ]
    },
    {
      "cell_type": "markdown",
      "id": "0778d34c",
      "metadata": {
        "id": "0778d34c"
      },
      "source": [
        "## (3) OrdinalEncoder"
      ]
    },
    {
      "cell_type": "code",
      "execution_count": null,
      "id": "61e2af0c",
      "metadata": {
        "id": "61e2af0c"
      },
      "outputs": [],
      "source": [
        "from sklearn.preprocesssng import OrdinalEncoder\n",
        "oe=OrdinalEncoder()\n",
        "cat_dataset=oe.fit_transform(cat_dataset)"
      ]
    },
    {
      "cell_type": "markdown",
      "id": "bced0f93",
      "metadata": {
        "id": "bced0f93"
      },
      "source": [
        "# -- Generating Polynomial features"
      ]
    },
    {
      "cell_type": "code",
      "execution_count": null,
      "id": "7606be84",
      "metadata": {
        "id": "7606be84"
      },
      "outputs": [],
      "source": [
        "from sklearn.preprocessing import PolynomialFeatures\n",
        "poly = PolynomialFeatures(degree=4)\n",
        "poly_reg = poly.fit_transform(x)# Where x = independent variable\n",
        "# example 1,x**1,x**2,x**3,.... so on"
      ]
    },
    {
      "cell_type": "markdown",
      "id": "SyiDWV_L5dnN",
      "metadata": {
        "id": "SyiDWV_L5dnN"
      },
      "source": [
        "# -- Use of divmod(x,y)"
      ]
    },
    {
      "cell_type": "code",
      "execution_count": null,
      "id": "13Og5QY35AG1",
      "metadata": {
        "id": "13Og5QY35AG1"
      },
      "outputs": [],
      "source": [
        "# The divmod() method takes two numbers and returns a pair of numbers (a tuple) consisting of their quotient and remainder\n",
        "\n",
        "# ex - y=0\n",
        "#      for i in range(1,11):\n",
        "#        i,j=divmod(y,5)\n",
        "#        print(i,j)\n",
        "#        y=y+1\n",
        "\n",
        "# output -  0 0\n",
        "#           0 1\n",
        "#           0 2\n",
        "#           0 3\n",
        "#           0 4\n",
        "#           1 0\n",
        "#           1 1\n",
        "#           1 2\n",
        "#           1 3\n",
        "#           1 4"
      ]
    },
    {
      "cell_type": "markdown",
      "id": "ikHMP4hHFIWT",
      "metadata": {
        "id": "ikHMP4hHFIWT"
      },
      "source": [
        "### -- pd.read_csv(error_bad_lines=True/False)"
      ]
    },
    {
      "cell_type": "code",
      "execution_count": null,
      "id": "-_ff7VEwEV9t",
      "metadata": {
        "id": "-_ff7VEwEV9t"
      },
      "outputs": [],
      "source": [
        "pd.read_csv('dataset.csv',error_bad_lines=True/False)\n",
        "# error_bad_lines:bool, default None\n",
        "\n",
        "# Lines with too many fields (e.g. a csv line with too many commas)\n",
        "# will by default cause an exception to be raised, and no DataFrame will be returned. \n",
        "# If False, then these “bad lines” will be dropped from the DataFrame that is returned."
      ]
    },
    {
      "cell_type": "markdown",
      "id": "c76f7a5e",
      "metadata": {
        "id": "c76f7a5e"
      },
      "source": [
        "# -- Inverse_transform()"
      ]
    },
    {
      "cell_type": "code",
      "execution_count": null,
      "id": "bacacf4e",
      "metadata": {
        "id": "bacacf4e"
      },
      "outputs": [],
      "source": [
        "# This function is used to reverse the transformation \n",
        "# Generally used in feature Scaling (or other Scaling)"
      ]
    },
    {
      "cell_type": "code",
      "execution_count": null,
      "id": "55ba4c9c",
      "metadata": {
        "id": "55ba4c9c"
      },
      "outputs": [],
      "source": [
        "inverse_transform(dataset)"
      ]
    },
    {
      "cell_type": "markdown",
      "id": "YDhzYf2scf1R",
      "metadata": {
        "id": "YDhzYf2scf1R"
      },
      "source": [
        "### -- Mean of columns of an array"
      ]
    },
    {
      "cell_type": "code",
      "execution_count": null,
      "id": "hhfZmoeObtRM",
      "metadata": {
        "colab": {
          "base_uri": "https://localhost:8080/"
        },
        "id": "hhfZmoeObtRM",
        "outputId": "3bbca4f7-9750-4bad-fd8d-8e75696a2297"
      },
      "outputs": [
        {
          "data": {
            "text/plain": [
              "array([[1, 0, 0, 1, 1],\n",
              "       [0, 1, 1, 0, 0],\n",
              "       [1, 1, 1, 0, 0]])"
            ]
          },
          "execution_count": 1,
          "metadata": {},
          "output_type": "execute_result"
        }
      ],
      "source": [
        "import numpy as np\n",
        "a=np.array([[1,0,0,1,1],\n",
        "           [0,1,1,0,0],\n",
        "            [1,1,1,0,0]])\n",
        "a"
      ]
    },
    {
      "cell_type": "code",
      "execution_count": null,
      "id": "Rl4PPQqhcDg3",
      "metadata": {
        "colab": {
          "base_uri": "https://localhost:8080/"
        },
        "id": "Rl4PPQqhcDg3",
        "outputId": "cd872c57-5ae3-44f7-a1ed-c0345075ecd4"
      },
      "outputs": [
        {
          "data": {
            "text/plain": [
              "array([0.66666667, 0.66666667, 0.66666667, 0.33333333, 0.33333333])"
            ]
          },
          "execution_count": 2,
          "metadata": {},
          "output_type": "execute_result"
        }
      ],
      "source": [
        "b=np.mean(np.column_stack(a),axis=1)\n",
        "b"
      ]
    },
    {
      "cell_type": "markdown",
      "id": "223bc789",
      "metadata": {
        "id": "223bc789"
      },
      "source": [
        "#                                                -- Correlation"
      ]
    },
    {
      "cell_type": "code",
      "execution_count": null,
      "id": "afc31082",
      "metadata": {
        "id": "afc31082"
      },
      "outputs": [],
      "source": [
        "# computing standard correlation coefficient(pearson's r)\n",
        "# it lies from -1 to 1\n",
        "# only measures linear correlations"
      ]
    },
    {
      "cell_type": "markdown",
      "id": "fd386b6b",
      "metadata": {
        "id": "fd386b6b"
      },
      "source": [
        "## (1) Numerical"
      ]
    },
    {
      "cell_type": "code",
      "execution_count": null,
      "id": "47b1e85e",
      "metadata": {
        "id": "47b1e85e"
      },
      "outputs": [],
      "source": [
        "corr_matrix=dataset_name.corr()\n",
        "corr_matrix['feature_name'].value_counts()"
      ]
    },
    {
      "cell_type": "markdown",
      "id": "6e1dd57d",
      "metadata": {
        "id": "6e1dd57d"
      },
      "source": [
        "## (2) Graphical"
      ]
    },
    {
      "cell_type": "code",
      "execution_count": null,
      "id": "74214d9b",
      "metadata": {
        "id": "74214d9b"
      },
      "outputs": [],
      "source": [
        "from sklearn.plotting import scatter_matrix\n",
        "attributes=[.,.,.,..]#various attributes\n",
        "scatter_matrix(dataset[attributes])"
      ]
    },
    {
      "cell_type": "markdown",
      "id": "jVfPSTWQBTz1",
      "metadata": {
        "id": "jVfPSTWQBTz1"
      },
      "source": [
        "## -- Alternate Method"
      ]
    },
    {
      "cell_type": "code",
      "execution_count": null,
      "id": "CfkHEjFBAwuP",
      "metadata": {
        "id": "CfkHEjFBAwuP"
      },
      "outputs": [],
      "source": [
        "pearson_coefficient=dataset_name.corr(method='pearson')\n",
        "\n",
        "import seaborn as sb\n",
        "sb.heatmap(pearson_coefficient,cmap='RdBu_r',annot=True)"
      ]
    },
    {
      "cell_type": "markdown",
      "id": "90EZajXMB48j",
      "metadata": {
        "id": "90EZajXMB48j"
      },
      "source": [
        "## -- OSM(OpenStreetMap)"
      ]
    },
    {
      "cell_type": "code",
      "execution_count": null,
      "id": "OsNzLSOSBULk",
      "metadata": {
        "id": "OsNzLSOSBULk"
      },
      "outputs": [],
      "source": [
        "#Nominatim (from the Latin, 'by name') is a tool to search OSM data by name and \n",
        "#address (geocoding) and to generate synthetic addresses of OSM points (reverse geocoding).\n",
        "\n",
        "from from geopy.geocoders import Nominatim\n",
        "geolocator = Nominatim(user_agent=\"harsh\")\n",
        "geilocator.geocode('India') # output - Location(India, (22.3511148, 78.6677428, 0.0))"
      ]
    },
    {
      "cell_type": "markdown",
      "id": "uuqTlSbheflg",
      "metadata": {
        "id": "uuqTlSbheflg"
      },
      "source": [
        "## -- Reading/Extracting csv file from a ZipFile"
      ]
    },
    {
      "cell_type": "code",
      "execution_count": null,
      "id": "VviaXkckfE67",
      "metadata": {
        "id": "VviaXkckfE67"
      },
      "outputs": [],
      "source": [
        "import zipfile\n",
        "import pandas as pd\n",
        "zip_file = zipfile.ZipFile(\"file_name\")\n",
        "df=pd.read_csv(zip_file.open('dataset_name.csv'))"
      ]
    },
    {
      "cell_type": "markdown",
      "id": "d324aa47",
      "metadata": {},
      "source": [
        "## Folder to zip file"
      ]
    },
    {
      "cell_type": "code",
      "execution_count": null,
      "id": "5799a67e",
      "metadata": {},
      "outputs": [],
      "source": [
        "! zip -r any_name.zip path_to_folder"
      ]
    },
    {
      "cell_type": "markdown",
      "id": "6f185357",
      "metadata": {
        "id": "6f185357"
      },
      "source": [
        "# -- Image Representation of Confusion-matrix"
      ]
    },
    {
      "cell_type": "code",
      "execution_count": null,
      "id": "962fba43",
      "metadata": {
        "id": "962fba43"
      },
      "outputs": [],
      "source": [
        "import matplotlib.pyplot as plt\n",
        "plt.show(cm,cmap=plt.cm.gray)\n",
        "plt.show()"
      ]
    },
    {
      "cell_type": "markdown",
      "id": "KquJMLza3BHY",
      "metadata": {
        "id": "KquJMLza3BHY"
      },
      "source": [
        "## -- pandas.shift()"
      ]
    },
    {
      "cell_type": "code",
      "execution_count": null,
      "id": "MMaOKDuw3AAL",
      "metadata": {
        "id": "MMaOKDuw3AAL"
      },
      "outputs": [],
      "source": [
        "Pandas dataframe.shift() function Shift index by desired number of periods with an optional time freq.\n",
        "\n",
        "#Code\n",
        "dataset=dataset-dataset.shift(periods,freq)"
      ]
    },
    {
      "cell_type": "markdown",
      "id": "af478898",
      "metadata": {
        "id": "af478898"
      },
      "source": [
        "# -- CountVectorizer"
      ]
    },
    {
      "cell_type": "code",
      "execution_count": null,
      "id": "cfa15ff4",
      "metadata": {
        "id": "cfa15ff4"
      },
      "outputs": [],
      "source": [
        "#Convert a collection of text documents to a matrix of token counts\n",
        "from sklearn.feature_extraction.text import CountVectorizer\n",
        "cv=CountVectorizer()\n",
        "cv.fit_transform(corpus).toarray()# corpus - list of text"
      ]
    },
    {
      "cell_type": "markdown",
      "id": "UttoR0QegMQc",
      "metadata": {
        "id": "UttoR0QegMQc"
      },
      "source": [
        "## -- Extracting Dataset From Kaggle(Directly)"
      ]
    },
    {
      "cell_type": "code",
      "execution_count": null,
      "id": "fw6VbDiegZmH",
      "metadata": {
        "id": "fw6VbDiegZmH"
      },
      "outputs": [],
      "source": [
        "import os\n",
        "os.environ['KAGGLE_CONFIG_DIR']='/content'\n",
        "!--API--"
      ]
    },
    {
      "cell_type": "code",
      "execution_count": null,
      "id": "cKu4OFKBxVmF",
      "metadata": {
        "id": "cKu4OFKBxVmF"
      },
      "outputs": [],
      "source": [
        "#creating kaggle.json using  username and key\n",
        "!mkdir ~/.kaggle\n",
        "!touch ~/.kaggle/kaggle.json\n",
        "api_token={\"username\":\"\",\"key\":\"\"}#in kaggle.json\n",
        "with open('/root/.kaggle/kaggle.json', 'w') as file:\n",
        "    json.dump(api_token, file)\n",
        "!chmod 600 ~/.kaggle/kaggle.json#ensuring that only the owner of the file has full read and write access to it.\n",
        "!--API--"
      ]
    },
    {
      "cell_type": "markdown",
      "id": "cbb8d888",
      "metadata": {
        "id": "cbb8d888"
      },
      "source": [
        "#  -- Downloading Module "
      ]
    },
    {
      "cell_type": "code",
      "execution_count": null,
      "id": "e6598b9d",
      "metadata": {
        "id": "e6598b9d"
      },
      "outputs": [],
      "source": [
        "import sys\n",
        "!{sys.executable} -m pip install module"
      ]
    },
    {
      "cell_type": "markdown",
      "id": "ROzoosPZRgTU",
      "metadata": {
        "id": "ROzoosPZRgTU"
      },
      "source": [
        "## -- Plotting Multiple Columns"
      ]
    },
    {
      "cell_type": "code",
      "execution_count": null,
      "id": "CI97jjjhRlq8",
      "metadata": {
        "id": "CI97jjjhRlq8"
      },
      "outputs": [],
      "source": [
        "# var_1=First Column\n",
        "# var_2=Second_Column\n",
        "ax=dataframe_name.plot(x=,y=var_1,kind=)\n",
        "dataframe_name.plot(x=,y=var_2,kind=,ax=)\n",
        "plt.show()"
      ]
    },
    {
      "cell_type": "markdown",
      "id": "c3b6bd92",
      "metadata": {
        "id": "c3b6bd92"
      },
      "source": [
        "# -- Encoding Multiple columns"
      ]
    },
    {
      "cell_type": "code",
      "execution_count": null,
      "id": "3d3c52b5",
      "metadata": {
        "id": "3d3c52b5"
      },
      "outputs": [],
      "source": [
        "from sklearn.preprocessing import LabelEncoder\n",
        "le=LabelEncoder()\n",
        "categ=[.,.,...]\n",
        "X[categ] = X[categ].apply(le.fit_transform)"
      ]
    },
    {
      "cell_type": "markdown",
      "id": "e32cbb8e",
      "metadata": {
        "id": "e32cbb8e"
      },
      "source": [
        "# -- Creating a CSV"
      ]
    },
    {
      "cell_type": "code",
      "execution_count": null,
      "id": "7f2261ee",
      "metadata": {
        "id": "7f2261ee"
      },
      "outputs": [],
      "source": [
        "output=pd.DataFrame({'Feature_name':values,'Feature_name':values})\n",
        "output.to_csv('name_of_file.csv')\n",
        "output"
      ]
    },
    {
      "cell_type": "code",
      "execution_count": null,
      "id": "c25f2594",
      "metadata": {
        "id": "c25f2594"
      },
      "outputs": [],
      "source": [
        "# Pandas dataframe.select_dtypes() function return a subset of the DataFrame’s columns based on the column dtypes. \n",
        "\n",
        "X = train_set.drop(['target'], axis=1).select_dtypes(exclude=['object'])"
      ]
    },
    {
      "cell_type": "markdown",
      "id": "7e985edc",
      "metadata": {
        "id": "7e985edc"
      },
      "source": [
        "# -- Use of Dropout"
      ]
    },
    {
      "cell_type": "code",
      "execution_count": null,
      "id": "0fa22822",
      "metadata": {
        "id": "0fa22822"
      },
      "outputs": [],
      "source": [
        "The Dropout layer randomly sets input units to 0 with a frequency of rate \n",
        "at each step during training time, which helps prevent overfitting. \n",
        "Inputs not set to 0 are scaled up by 1/(1 - rate) such that the sum over all inputs is unchanged.\n",
        "\n",
        "tf.keras.layers.Dropout(rate, noise_shape=None, seed=None, **kwargs)"
      ]
    },
    {
      "cell_type": "markdown",
      "id": "f2c6e0b1",
      "metadata": {
        "id": "f2c6e0b1"
      },
      "source": [
        "# -- Data-Augmentation"
      ]
    },
    {
      "cell_type": "code",
      "execution_count": null,
      "id": "0df981b9",
      "metadata": {
        "id": "0df981b9"
      },
      "outputs": [],
      "source": [
        "#ImageDataGenerator is one of the widely used augmentation techniques provided by keras \n",
        "#Code\n",
        "\n",
        "datagen=ImageDataGenerator(parameters)\n",
        "datagen.fit(X_train)\n",
        "model.fit(datagen.flow(x_train,Y_train,batch_size=))"
      ]
    },
    {
      "cell_type": "markdown",
      "id": "9e05bd04",
      "metadata": {
        "id": "9e05bd04"
      },
      "source": [
        "# -- Saving Model"
      ]
    },
    {
      "cell_type": "code",
      "execution_count": null,
      "id": "f34e1d77",
      "metadata": {
        "id": "f34e1d77"
      },
      "outputs": [],
      "source": [
        "import joblib\n",
        "joblib.dump(model,\"name\")\n",
        "#model like SVR,SVC,LogisticRegression....\n",
        "\n",
        "md=joblib.load(\"name\")\n",
        "md.fit(x,y)"
      ]
    },
    {
      "cell_type": "markdown",
      "id": "8e7646a4",
      "metadata": {
        "id": "8e7646a4"
      },
      "source": [
        "# -- isinstance(obj,class)"
      ]
    },
    {
      "cell_type": "code",
      "execution_count": null,
      "id": "9d11dee2",
      "metadata": {
        "id": "9d11dee2"
      },
      "outputs": [],
      "source": [
        "Python isinstance() function returns True if the object is specified types,\n",
        "                                   and it will not match then return False\n",
        "\n",
        "ex -\n",
        "\n",
        "all(isinstance(column, str) for column in df_can.columns)"
      ]
    },
    {
      "cell_type": "markdown",
      "id": "f8bc3c6d",
      "metadata": {
        "id": "f8bc3c6d"
      },
      "source": [
        "# -- Feature Importance (RFC)"
      ]
    },
    {
      "cell_type": "code",
      "execution_count": null,
      "id": "f37df47d",
      "metadata": {
        "id": "f37df47d"
      },
      "outputs": [],
      "source": [
        "from sklearn.ensemble import RandomForestClassifier\n",
        "clf=RandomForestClassifier()\n",
        "clf.feature_importances_"
      ]
    },
    {
      "cell_type": "markdown",
      "id": "46fdeebe",
      "metadata": {
        "id": "46fdeebe"
      },
      "source": [
        "# -- Use of set_index"
      ]
    },
    {
      "cell_type": "code",
      "execution_count": null,
      "id": "8ef6038d",
      "metadata": {
        "id": "8ef6038d"
      },
      "outputs": [],
      "source": [
        "It is used for removing the default index in the dataframe\n",
        "code -\n",
        "\n",
        "df.set_index('column_name',inplace=True/False)"
      ]
    },
    {
      "cell_type": "markdown",
      "id": "e72cb1b9",
      "metadata": {},
      "source": [
        "# -- Cleaning text"
      ]
    },
    {
      "cell_type": "code",
      "execution_count": null,
      "id": "c08e8acd",
      "metadata": {},
      "outputs": [],
      "source": [
        "import nltk,re\n",
        "from nltk.corpus import stopwords\n",
        "STOPWORDS=stopwords.words(\"english\")\n",
        "def clean_text(text,stopwords=STOPWORDS):\n",
        "    # Lower\n",
        "    text = text.lower()\n",
        "\n",
        "    # Remove stopwords\n",
        "    pattern = re.compile(r'\\b(' + r\"|\".join(stopwords) + r\")\\b\\s*\")\n",
        "    text = pattern.sub('', text)\n",
        "\n",
        "    # Spacing and filters\n",
        "    text = re.sub(r\"([!\\\"'#$%&()*\\+,-./:;<=>?@\\\\\\[\\]^_`{|}~])\", r\" \\1 \", text)  # add spacing\n",
        "    text = re.sub(\"[^A-Za-z0-9]+\", \" \", text)  # remove non alphanumeric chars\n",
        "    text = re.sub(\" +\", \" \", text)  # remove multiple spaces\n",
        "    text = text.strip()  # strip white space at the ends\n",
        "    text = re.sub(r\"http\\S+\", \"\", text)  #  remove links\n",
        "    \n",
        "    return text"
      ]
    },
    {
      "cell_type": "markdown",
      "id": "b661f3c7",
      "metadata": {
        "id": "b661f3c7"
      },
      "source": [
        "<center><h1>Visualization</h1></center> "
      ]
    },
    {
      "cell_type": "markdown",
      "id": "9a65ef15",
      "metadata": {
        "id": "9a65ef15"
      },
      "source": [
        "# -- ViolinPlot"
      ]
    },
    {
      "cell_type": "code",
      "execution_count": null,
      "id": "068c1eda",
      "metadata": {
        "id": "068c1eda"
      },
      "outputs": [],
      "source": [
        "fig = seaborn.violinplot(x,y)"
      ]
    },
    {
      "cell_type": "markdown",
      "id": "0bc94d77",
      "metadata": {
        "id": "0bc94d77"
      },
      "source": [
        "# -- pie chart"
      ]
    },
    {
      "cell_type": "code",
      "execution_count": null,
      "id": "1e1ce7b3",
      "metadata": {
        "id": "1e1ce7b3"
      },
      "outputs": [],
      "source": [
        "plt.pie(x,labels)"
      ]
    },
    {
      "cell_type": "markdown",
      "id": "35ee4cb8",
      "metadata": {
        "id": "35ee4cb8"
      },
      "source": [
        "# -- Colors"
      ]
    },
    {
      "cell_type": "code",
      "execution_count": null,
      "id": "9089511f",
      "metadata": {
        "id": "9089511f"
      },
      "outputs": [],
      "source": [
        "For a full listing of colors available in Matplotlib, run the following code in your python shell:\n",
        "\n",
        "import matplotlib\n",
        "for name, hex in matplotlib.colors.cnames.items():\n",
        "    print(name, hex)"
      ]
    },
    {
      "cell_type": "code",
      "execution_count": null,
      "id": "F9ybH3UyGsSR",
      "metadata": {
        "id": "F9ybH3UyGsSR"
      },
      "outputs": [],
      "source": [
        "ex - \n",
        "colors=['#d45d00','#ff9100','#eaaa00','#6d6875']"
      ]
    },
    {
      "cell_type": "markdown",
      "id": "XHxv3dwJFmUm",
      "metadata": {
        "id": "XHxv3dwJFmUm"
      },
      "source": [
        "# -- Colors(Matplotlib)"
      ]
    },
    {
      "cell_type": "markdown",
      "id": "WEowTykV_fOw",
      "metadata": {
        "id": "WEowTykV_fOw"
      },
      "source": [
        "<img title=\"\" alt=\"ventilator diagram\" src=https://matplotlib.org/3.1.0/_images/sphx_glr_named_colors_003.png style=\"user-select: auto;\">"
      ]
    },
    {
      "cell_type": "code",
      "execution_count": null,
      "id": "muMzdd3dF135",
      "metadata": {
        "id": "muMzdd3dF135"
      },
      "outputs": [],
      "source": []
    },
    {
      "cell_type": "code",
      "execution_count": null,
      "id": "EMtLYrOF_mjP",
      "metadata": {
        "id": "EMtLYrOF_mjP"
      },
      "outputs": [],
      "source": [
        "# Diverging Maps colormap\n",
        "\n",
        "cmaps['Diverging'] = [\n",
        "            'PiYG', 'PRGn', 'BrBG', 'PuOr', 'RdGy', 'RdBu',\n",
        "            'RdYlBu', 'RdYlGn', 'Spectral', 'coolwarm', 'bwr', 'seismic']"
      ]
    },
    {
      "cell_type": "markdown",
      "id": "47057dc8",
      "metadata": {
        "id": "47057dc8"
      },
      "source": [
        "# -- missingno"
      ]
    },
    {
      "cell_type": "code",
      "execution_count": null,
      "id": "ba0d14aa",
      "metadata": {
        "id": "ba0d14aa"
      },
      "outputs": [],
      "source": [
        "Missingno is an excellent and simple to use Python library\n",
        "that provides a series of visualisations to understand the \n",
        "presence and distribution of missing data within a pandas dataframe.\n",
        "\n",
        "ex - \n",
        "\n",
        "import missingno as msno\n",
        "msno.bar(dataframe,fontsize=12,figsize=(20,10))\n",
        "plt.show()"
      ]
    },
    {
      "cell_type": "markdown",
      "id": "yaL4dsg3RZlc",
      "metadata": {
        "id": "yaL4dsg3RZlc"
      },
      "source": [
        "# -- Palettes(Seaborn)"
      ]
    },
    {
      "cell_type": "code",
      "execution_count": null,
      "id": "OJxLKVIvRFsY",
      "metadata": {
        "id": "OJxLKVIvRFsY"
      },
      "outputs": [],
      "source": [
        "'Accent', 'Accent_r', 'Blues', 'Blues_r', 'BrBG', 'BrBG_r', 'BuGn', 'BuGn_r',\n",
        "'BuPu', 'BuPu_r', 'CMRmap', 'CMRmap_r', 'Dark2', 'Dark2_r', 'GnBu', 'GnBu_r',\n",
        "'Greens', 'Greens_r', 'Greys', 'Greys_r', 'OrRd', 'OrRd_r', 'Oranges', 'Oranges_r',\n",
        "'PRGn', 'PRGn_r', 'Paired', 'Paired_r', 'Pastel1', 'Pastel1_r', 'Pastel2', 'Pastel2_r',\n",
        "'PiYG', 'PiYG_r', 'PuBu', 'PuBuGn', 'PuBuGn_r', 'PuBu_r', 'PuOr', 'PuOr_r', 'PuRd', \n",
        "'PuRd_r', 'Purples', 'Purples_r', 'RdBu', 'RdBu_r', 'RdGy', 'RdGy_r', 'RdPu', 'RdPu_r',\n",
        "'RdYlBu', 'RdYlBu_r', 'RdYlGn', 'RdYlGn_r', 'Reds', 'Reds_r', 'Set1', 'Set1_r', 'Set2', \n",
        "'Set2_r', 'Set3', 'Set3_r', 'Spectral', 'Spectral_r', 'Wistia', 'Wistia_r', 'YlGn', \n",
        "'YlGnBu', 'YlGnBu_r', 'YlGn_r', 'YlOrBr', 'YlOrBr_r', 'YlOrRd', 'YlOrRd_r', 'afmhot', 'afmhot_r', \n",
        "'autumn', 'autumn_r', 'binary', 'binary_r', 'bone', 'bone_r', 'brg', 'brg_r', 'bwr', 'bwr_r', 'cividis', \n",
        "'cividis_r', 'cool', 'cool_r', 'coolwarm', 'coolwarm_r', 'copper', 'copper_r', 'crest', 'crest_r', \n",
        "'cubehelix', 'cubehelix_r', 'flag', 'flag_r', 'flare', 'flare_r', 'gist_earth', 'gist_earth_r', \n",
        "'gist_gray', 'gist_gray_r', 'gist_heat', 'gist_heat_r', 'gist_ncar', 'gist_ncar_r', 'gist_rainbow', \n",
        "'gist_rainbow_r', 'gist_stern', 'gist_stern_r', 'gist_yarg', 'gist_yarg_r', 'gnuplot', 'gnuplot2', \n",
        "'gnuplot2_r', 'gnuplot_r', 'gray', 'gray_r', 'hot', 'hot_r', 'hsv', 'hsv_r', 'icefire', 'icefire_r', 'inferno', 'inferno_r', 'jet', 'jet_r',"
      ]
    },
    {
      "cell_type": "markdown",
      "id": "ae1c36ab",
      "metadata": {
        "id": "ae1c36ab"
      },
      "source": [
        "<center><h2>Extra</h2></center> "
      ]
    },
    {
      "cell_type": "markdown",
      "id": "1790cb3f",
      "metadata": {
        "id": "1790cb3f"
      },
      "source": [
        "<b>Links</b>"
      ]
    },
    {
      "cell_type": "markdown",
      "id": "552f2cf9",
      "metadata": {
        "id": "552f2cf9"
      },
      "source": [
        "Matplotlib - <b>https://matplotlib.org/stable/#</b><br>\n",
        "Seaborn - <b>https://seaborn.pydata.org/</b>"
      ]
    },
    {
      "cell_type": "code",
      "execution_count": null,
      "id": "40b0dc9d",
      "metadata": {
        "id": "40b0dc9d"
      },
      "outputs": [],
      "source": [
        "df['column']                  # returns series\n",
        "df[['column 1', 'column 2']]  # returns dataframe"
      ]
    },
    {
      "cell_type": "code",
      "execution_count": null,
      "id": "1649057c",
      "metadata": {
        "id": "1649057c"
      },
      "outputs": [],
      "source": [
        "df_can.loc['index', [column_1,column_2,column_3....]]\n",
        "\n",
        "ex - 1) df_can.iloc[87, [3, 4, 5, 6, 7, 8]]\n",
        "     2) df_can.loc['Japan', [1980, 1981, 1982, 1983, 1984, 1984]]"
      ]
    },
    {
      "cell_type": "code",
      "execution_count": null,
      "id": "f11acc7c",
      "metadata": {
        "id": "f11acc7c"
      },
      "outputs": [],
      "source": []
    }
  ],
  "metadata": {
    "colab": {
      "include_colab_link": true,
      "provenance": []
    },
    "kernelspec": {
      "display_name": "Python 3",
      "language": "python",
      "name": "python3"
    },
    "language_info": {
      "codemirror_mode": {
        "name": "ipython",
        "version": 3
      },
      "file_extension": ".py",
      "mimetype": "text/x-python",
      "name": "python",
      "nbconvert_exporter": "python",
      "pygments_lexer": "ipython3",
      "version": "3.10.6"
    }
  },
  "nbformat": 4,
  "nbformat_minor": 5
}
