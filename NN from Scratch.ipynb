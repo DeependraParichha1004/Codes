{
 "cells": [
  {
   "cell_type": "markdown",
   "metadata": {},
   "source": [
    "### Importing libraries"
   ]
  },
  {
   "cell_type": "code",
   "execution_count": 1,
   "metadata": {},
   "outputs": [],
   "source": [
    "import pandas as pd\n",
    "import numpy as np\n",
    "import matplotlib.pyplot as plt"
   ]
  },
  {
   "cell_type": "code",
   "execution_count": 2,
   "metadata": {},
   "outputs": [],
   "source": [
    "data=pd.read_csv(\"train.csv\")\n",
    "data=np.array(data)\n",
    "m,n=data.shape\n",
    "np.random.shuffle(data)\n",
    "data_dev=data[0:1000].T\n",
    "x_dev=data_dev[1:n]\n",
    "y_dev=data_dev[0]\n",
    "x_dev=x_dev/255."
   ]
  },
  {
   "cell_type": "code",
   "execution_count": 3,
   "metadata": {},
   "outputs": [],
   "source": [
    "data_train=data[1000:m].T\n",
    "x_train=data_train[1:n]\n",
    "y_train=data_train[0]\n",
    "x_train=x_train/255.\n"
   ]
  },
  {
   "cell_type": "code",
   "execution_count": 4,
   "metadata": {},
   "outputs": [
    {
     "data": {
      "text/plain": [
       "((784, 41000), (784, 1000), (41000,), (1000,))"
      ]
     },
     "execution_count": 4,
     "metadata": {},
     "output_type": "execute_result"
    }
   ],
   "source": [
    "x_train.shape,x_dev.shape,y_train.shape,y_dev.shape"
   ]
  },
  {
   "cell_type": "markdown",
   "metadata": {},
   "source": [
    "Our NN will have a simple two-layer architecture. Input layer $a^{[0]}$ will have 784 units corresponding to the 784 pixels in each 28x28 input image. A hidden layer $a^{[1]}$ will have 10 units with ReLU activation, and finally our output layer $a^{[2]}$ will have 10 units corresponding to the ten digit classes with softmax activation.\n",
    "\n",
    "**Forward propagation**\n",
    "\n",
    "$$Z^{[1]} = W^{[1]} X + b^{[1]}$$\n",
    "$$A^{[1]} = g_{\\text{ReLU}}(Z^{[1]}))$$\n",
    "$$Z^{[2]} = W^{[2]} A^{[1]} + b^{[2]}$$\n",
    "$$A^{[2]} = g_{\\text{softmax}}(Z^{[2]})$$\n",
    "\n",
    "**Backward propagation**\n",
    "\n",
    "$$dZ^{[2]} = A^{[2]} - Y$$\n",
    "$$dW^{[2]} = \\frac{1}{m} dZ^{[2]} A^{[1]T}$$\n",
    "$$dB^{[2]} = \\frac{1}{m} \\Sigma {dZ^{[2]}}$$\n",
    "$$dZ^{[1]} = W^{[2]T} dZ^{[2]} .* g^{[1]\\prime} (z^{[1]})$$\n",
    "$$dW^{[1]} = \\frac{1}{m} dZ^{[1]} A^{[0]T}$$\n",
    "$$dB^{[1]} = \\frac{1}{m} \\Sigma {dZ^{[1]}}$$\n",
    "\n",
    "**Parameter updates**\n",
    "\n",
    "$$W^{[2]} := W^{[2]} - \\alpha dW^{[2]}$$\n",
    "$$b^{[2]} := b^{[2]} - \\alpha db^{[2]}$$\n",
    "$$W^{[1]} := W^{[1]} - \\alpha dW^{[1]}$$\n",
    "$$b^{[1]} := b^{[1]} - \\alpha db^{[1]}$$\n",
    "\n",
    "**Vars and shapes**\n",
    "\n",
    "Forward prop\n",
    "\n",
    "- $A^{[0]} = X$: 784 x m\n",
    "- $Z^{[1]} \\sim A^{[1]}$: 10 x m\n",
    "- $W^{[1]}$: 10 x 784 (as $W^{[1]} A^{[0]} \\sim Z^{[1]}$)\n",
    "- $B^{[1]}$: 10 x 1\n",
    "- $Z^{[2]} \\sim A^{[2]}$: 10 x m\n",
    "- $W^{[1]}$: 10 x 10 (as $W^{[2]} A^{[1]} \\sim Z^{[2]}$)\n",
    "- $B^{[2]}$: 10 x 1\n",
    "\n",
    "Backprop\n",
    "\n",
    "- $dZ^{[2]}$: 10 x m ($~A^{[2]}$)\n",
    "- $dW^{[2]}$: 10 x 10\n",
    "- $dB^{[2]}$: 10 x 1\n",
    "- $dZ^{[1]}$: 10 x m ($~A^{[1]}$)\n",
    "- $dW^{[1]}$: 10 x 10\n",
    "- $dB^{[1]}$: 10 x 1\n",
    "\n",
    "Thanks to <a href=\"https://www.kaggle.com/code/wwsalmon/simple-mnist-nn-from-scratch-numpy-no-tf-keras/notebook\">Samson Zhang</a>"
   ]
  },
  {
   "cell_type": "code",
   "execution_count": 5,
   "metadata": {},
   "outputs": [],
   "source": [
    "def init_params():\n",
    "    w1=np.random.rand(10,784)-0.5\n",
    "    b1=np.random.rand(10,1)-0.5\n",
    "    w2=np.random.rand(10,10)-0.5\n",
    "    b2=np.random.rand(10,1)-0.5\n",
    "    return w1,b1,w2,b2\n",
    "def relu(Z):\n",
    "    return np.maximum(Z,0)\n",
    "def softmax(Z):\n",
    "    ans=np.exp(Z)/sum(np.exp(Z))\n",
    "    return ans"
   ]
  },
  {
   "cell_type": "code",
   "execution_count": 6,
   "metadata": {},
   "outputs": [],
   "source": [
    "def forward(w1,b1,w2,b2,X):\n",
    "    z1=w1.dot(X)+b1\n",
    "    a1=relu(z1)\n",
    "    z2=w2.dot(a1)+b2\n",
    "    a2=relu(z2)\n",
    "    # print(\"shape a1 and a2\",a1.shape,a2.shape)\n",
    "    return z1,a1,z2,a2\n",
    "\n",
    "def reLU_deriv(z):\n",
    "    return z>0\n",
    "\n",
    "def one_hot(y):\n",
    "    one_hot_Y=np.zeros((y.size,y.max()+1))\n",
    "    one_hot_Y[np.arange(y.size), y] = 1\n",
    "    one_hot_Y = one_hot_Y.T\n",
    "    return one_hot_Y\n",
    "\n",
    "def backward(X,y,a1,a2,w1,w2,z1,z2):\n",
    "    dz_2=a2-one_hot(y) #(10,41000)\n",
    "    dw_2=1/m*(dz_2.dot(a1.T)) #(10,10)\n",
    "    db_2=1/m*np.sum(dz_2) #(10,1)\n",
    "    dz_1=w2.T.dot(dz_2) * reLU_deriv(z1) #(10,41000)\n",
    "    dw_1 = 1 / m * dz_1.dot(X.T) #(10,10)\n",
    "    db_1 = 1 / m * np.sum(dz_1) #(10,1)\n",
    "    return dw_1,dw_2,db_1,db_2\n",
    "\n",
    "def update_params(W1, b1, W2, b2, dW1, db1, dW2, db2, alpha):\n",
    "    W1 = W1 - alpha * dW1\n",
    "    b1 = b1 - alpha * db1    \n",
    "    W2 = W2 - alpha * dW2  \n",
    "    b2 = b2 - alpha * db2    \n",
    "    return W1, b1, W2, b2"
   ]
  },
  {
   "cell_type": "code",
   "execution_count": 7,
   "metadata": {},
   "outputs": [],
   "source": [
    "w1,b1,w2,b2=init_params()\n",
    "z1,a1,z2,a2=forward(w1,b1,w2,b2,x_train)"
   ]
  },
  {
   "cell_type": "markdown",
   "metadata": {},
   "source": [
    "### Training"
   ]
  },
  {
   "cell_type": "code",
   "execution_count": 8,
   "metadata": {},
   "outputs": [],
   "source": [
    "def predictions(pred):\n",
    "    return np.argmax(pred,0)\n",
    "\n",
    "def accuracy(pred,y):\n",
    "    print(\"pred:{} ,y:{} \".format(pred,y))\n",
    "    print(\"accuracy: \",np.sum(pred==y)/y.size)\n",
    "    \n",
    "def training(x_train,y_train,alpha,epochs):\n",
    "    w1,b1,w2,b2=init_params()\n",
    "    for epoch in range(epochs):\n",
    "        z1,a1,z2,a2=forward(w1,b1,w2,b2,x_train)\n",
    "        dw_1,dw_2,db_1,db_2=backward(x_train,y_train,a1,a2,w1,w2,z1,z2)\n",
    "        w1, b1, w2, b2=update_params(w1, b1, w2, b2, dw_1, db_1, dw_2, db_2, alpha)\n",
    "        if epoch%10==0:\n",
    "            print(\"epoch: \", epoch)\n",
    "            pred=predictions(a2)\n",
    "            print(accuracy(pred,y_train))\n",
    "    return w1,b1,w2,b2"
   ]
  },
  {
   "cell_type": "code",
   "execution_count": 14,
   "metadata": {},
   "outputs": [
    {
     "name": "stdout",
     "output_type": "stream",
     "text": [
      "epoch:  0\n",
      "pred:[6 9 6 ... 9 6 1] ,y:[8 5 4 ... 9 1 0] \n",
      "accuracy:  0.08119512195121951\n",
      "None\n",
      "epoch:  10\n",
      "pred:[8 8 9 ... 9 8 0] ,y:[8 5 4 ... 9 1 0] \n",
      "accuracy:  0.14165853658536584\n",
      "None\n",
      "epoch:  20\n",
      "pred:[8 8 9 ... 9 8 0] ,y:[8 5 4 ... 9 1 0] \n",
      "accuracy:  0.15173170731707317\n",
      "None\n",
      "epoch:  30\n",
      "pred:[6 8 4 ... 9 8 0] ,y:[8 5 4 ... 9 1 0] \n",
      "accuracy:  0.17370731707317072\n",
      "None\n",
      "epoch:  40\n",
      "pred:[6 8 4 ... 9 8 0] ,y:[8 5 4 ... 9 1 0] \n",
      "accuracy:  0.19597560975609757\n",
      "None\n",
      "epoch:  50\n",
      "pred:[6 8 4 ... 0 8 0] ,y:[8 5 4 ... 9 1 0] \n",
      "accuracy:  0.22195121951219512\n",
      "None\n",
      "epoch:  60\n",
      "pred:[6 8 4 ... 0 8 0] ,y:[8 5 4 ... 9 1 0] \n",
      "accuracy:  0.25165853658536586\n",
      "None\n",
      "epoch:  70\n",
      "pred:[6 8 4 ... 0 8 0] ,y:[8 5 4 ... 9 1 0] \n",
      "accuracy:  0.2809268292682927\n",
      "None\n",
      "epoch:  80\n",
      "pred:[6 8 4 ... 4 8 0] ,y:[8 5 4 ... 9 1 0] \n",
      "accuracy:  0.3046829268292683\n",
      "None\n",
      "epoch:  90\n",
      "pred:[6 8 4 ... 4 8 0] ,y:[8 5 4 ... 9 1 0] \n",
      "accuracy:  0.3232439024390244\n",
      "None\n",
      "epoch:  100\n",
      "pred:[6 8 4 ... 9 8 0] ,y:[8 5 4 ... 9 1 0] \n",
      "accuracy:  0.3423414634146342\n",
      "None\n",
      "epoch:  110\n",
      "pred:[6 3 4 ... 9 8 0] ,y:[8 5 4 ... 9 1 0] \n",
      "accuracy:  0.36192682926829267\n",
      "None\n",
      "epoch:  120\n",
      "pred:[6 3 4 ... 9 8 0] ,y:[8 5 4 ... 9 1 0] \n",
      "accuracy:  0.38114634146341464\n",
      "None\n",
      "epoch:  130\n",
      "pred:[6 3 4 ... 9 8 0] ,y:[8 5 4 ... 9 1 0] \n",
      "accuracy:  0.40163414634146344\n",
      "None\n",
      "epoch:  140\n",
      "pred:[6 3 4 ... 9 8 0] ,y:[8 5 4 ... 9 1 0] \n",
      "accuracy:  0.41997560975609755\n",
      "None\n",
      "epoch:  150\n",
      "pred:[6 3 4 ... 9 8 0] ,y:[8 5 4 ... 9 1 0] \n",
      "accuracy:  0.43290243902439024\n",
      "None\n",
      "epoch:  160\n",
      "pred:[6 3 4 ... 9 8 0] ,y:[8 5 4 ... 9 1 0] \n",
      "accuracy:  0.4451951219512195\n",
      "None\n",
      "epoch:  170\n",
      "pred:[6 3 4 ... 9 8 0] ,y:[8 5 4 ... 9 1 0] \n",
      "accuracy:  0.45707317073170733\n",
      "None\n",
      "epoch:  180\n",
      "pred:[6 3 4 ... 9 8 0] ,y:[8 5 4 ... 9 1 0] \n",
      "accuracy:  0.46941463414634144\n",
      "None\n",
      "epoch:  190\n",
      "pred:[6 3 4 ... 9 6 0] ,y:[8 5 4 ... 9 1 0] \n",
      "accuracy:  0.4815121951219512\n",
      "None\n",
      "epoch:  200\n",
      "pred:[6 3 4 ... 9 3 0] ,y:[8 5 4 ... 9 1 0] \n",
      "accuracy:  0.4927560975609756\n",
      "None\n",
      "epoch:  210\n",
      "pred:[6 3 4 ... 9 1 0] ,y:[8 5 4 ... 9 1 0] \n",
      "accuracy:  0.5034878048780488\n",
      "None\n",
      "epoch:  220\n",
      "pred:[6 3 4 ... 9 1 0] ,y:[8 5 4 ... 9 1 0] \n",
      "accuracy:  0.5149024390243903\n",
      "None\n",
      "epoch:  230\n",
      "pred:[6 3 4 ... 9 1 0] ,y:[8 5 4 ... 9 1 0] \n",
      "accuracy:  0.5244390243902439\n",
      "None\n",
      "epoch:  240\n",
      "pred:[8 3 4 ... 9 1 0] ,y:[8 5 4 ... 9 1 0] \n",
      "accuracy:  0.5336585365853659\n",
      "None\n",
      "epoch:  250\n",
      "pred:[8 3 4 ... 9 1 6] ,y:[8 5 4 ... 9 1 0] \n",
      "accuracy:  0.5442682926829269\n",
      "None\n",
      "epoch:  260\n",
      "pred:[8 3 4 ... 9 1 6] ,y:[8 5 4 ... 9 1 0] \n",
      "accuracy:  0.5530487804878049\n",
      "None\n",
      "epoch:  270\n",
      "pred:[8 3 4 ... 9 1 6] ,y:[8 5 4 ... 9 1 0] \n",
      "accuracy:  0.5611951219512196\n",
      "None\n",
      "epoch:  280\n",
      "pred:[8 3 4 ... 9 1 6] ,y:[8 5 4 ... 9 1 0] \n",
      "accuracy:  0.5686341463414634\n",
      "None\n",
      "epoch:  290\n",
      "pred:[8 3 4 ... 9 1 6] ,y:[8 5 4 ... 9 1 0] \n",
      "accuracy:  0.5760487804878048\n",
      "None\n",
      "epoch:  300\n",
      "pred:[8 3 4 ... 9 1 6] ,y:[8 5 4 ... 9 1 0] \n",
      "accuracy:  0.5829024390243902\n",
      "None\n",
      "epoch:  310\n",
      "pred:[8 3 4 ... 4 1 6] ,y:[8 5 4 ... 9 1 0] \n",
      "accuracy:  0.5895609756097561\n",
      "None\n",
      "epoch:  320\n",
      "pred:[8 3 4 ... 4 1 6] ,y:[8 5 4 ... 9 1 0] \n",
      "accuracy:  0.5882926829268292\n",
      "None\n",
      "epoch:  330\n",
      "pred:[8 3 4 ... 4 1 6] ,y:[8 5 4 ... 9 1 0] \n",
      "accuracy:  0.5970487804878049\n",
      "None\n",
      "epoch:  340\n",
      "pred:[8 3 4 ... 4 1 6] ,y:[8 5 4 ... 9 1 0] \n",
      "accuracy:  0.6029268292682927\n",
      "None\n",
      "epoch:  350\n",
      "pred:[8 3 4 ... 4 1 6] ,y:[8 5 4 ... 9 1 0] \n",
      "accuracy:  0.6071707317073171\n",
      "None\n",
      "epoch:  360\n",
      "pred:[8 3 4 ... 4 1 6] ,y:[8 5 4 ... 9 1 0] \n",
      "accuracy:  0.6110731707317073\n",
      "None\n",
      "epoch:  370\n",
      "pred:[8 3 4 ... 4 1 6] ,y:[8 5 4 ... 9 1 0] \n",
      "accuracy:  0.6140731707317073\n",
      "None\n",
      "epoch:  380\n",
      "pred:[8 3 4 ... 4 1 6] ,y:[8 5 4 ... 9 1 0] \n",
      "accuracy:  0.6184878048780488\n",
      "None\n",
      "epoch:  390\n",
      "pred:[8 3 4 ... 4 1 6] ,y:[8 5 4 ... 9 1 0] \n",
      "accuracy:  0.6226341463414634\n",
      "None\n",
      "epoch:  400\n",
      "pred:[8 3 4 ... 4 1 6] ,y:[8 5 4 ... 9 1 0] \n",
      "accuracy:  0.6269268292682927\n",
      "None\n",
      "epoch:  410\n",
      "pred:[8 3 4 ... 4 1 6] ,y:[8 5 4 ... 9 1 0] \n",
      "accuracy:  0.6304878048780488\n",
      "None\n",
      "epoch:  420\n",
      "pred:[8 3 4 ... 4 1 6] ,y:[8 5 4 ... 9 1 0] \n",
      "accuracy:  0.6344634146341463\n",
      "None\n",
      "epoch:  430\n",
      "pred:[8 3 4 ... 4 1 6] ,y:[8 5 4 ... 9 1 0] \n",
      "accuracy:  0.6379756097560976\n",
      "None\n",
      "epoch:  440\n",
      "pred:[8 3 4 ... 4 1 6] ,y:[8 5 4 ... 9 1 0] \n",
      "accuracy:  0.6417073170731707\n",
      "None\n",
      "epoch:  450\n",
      "pred:[8 3 4 ... 4 1 6] ,y:[8 5 4 ... 9 1 0] \n",
      "accuracy:  0.645219512195122\n",
      "None\n",
      "epoch:  460\n",
      "pred:[8 3 4 ... 4 1 6] ,y:[8 5 4 ... 9 1 0] \n",
      "accuracy:  0.6478048780487805\n",
      "None\n",
      "epoch:  470\n",
      "pred:[8 3 4 ... 4 1 6] ,y:[8 5 4 ... 9 1 0] \n",
      "accuracy:  0.6501463414634147\n",
      "None\n",
      "epoch:  480\n",
      "pred:[8 3 4 ... 4 1 6] ,y:[8 5 4 ... 9 1 0] \n",
      "accuracy:  0.6526585365853659\n",
      "None\n",
      "epoch:  490\n",
      "pred:[8 3 4 ... 4 1 6] ,y:[8 5 4 ... 9 1 0] \n",
      "accuracy:  0.6549512195121951\n",
      "None\n"
     ]
    }
   ],
   "source": [
    "w1,b1,w2,b2 = training(x_train, y_train, 0.172, 500)"
   ]
  },
  {
   "cell_type": "markdown",
   "metadata": {},
   "source": [
    "### Testing"
   ]
  },
  {
   "cell_type": "code",
   "execution_count": 40,
   "metadata": {},
   "outputs": [
    {
     "data": {
      "text/plain": [
       "[0, 1, 2, 3, 4, 5, 6, 7, 8, 9]"
      ]
     },
     "execution_count": 40,
     "metadata": {},
     "output_type": "execute_result"
    }
   ],
   "source": [
    "labels=list(pd.Series(y_train).unique())\n",
    "labels.sort()\n",
    "labels=labels\n",
    "labels"
   ]
  },
  {
   "cell_type": "code",
   "execution_count": 15,
   "metadata": {},
   "outputs": [],
   "source": [
    "def make_predictions(x,w1,b1,w2,b2):\n",
    "    _,_,_,a2=forward(w1,b1,w2,b2,x)\n",
    "    pred=predictions(a2)\n",
    "    return pred\n",
    "\n",
    "def test_prediction(index,w1,b1,w2,b2):\n",
    "    test_ex=x_dev[:,index,None]\n",
    "    pred=make_predictions(test_ex,w1,b1,w2,b2)\n",
    "    print(\"prediction:{} ,label:{}\".format(pred,y_dev[index]))\n",
    "    \n",
    "    curr_img=test_ex.reshape(28,28)*255\n",
    "    plt.gray()\n",
    "    plt.imshow(curr_img,interpolation=\"nearest\")\n",
    "    plt.show()"
   ]
  },
  {
   "cell_type": "code",
   "execution_count": 16,
   "metadata": {},
   "outputs": [
    {
     "name": "stdout",
     "output_type": "stream",
     "text": [
      "prediction:[6] ,label:5\n"
     ]
    },
    {
     "data": {
      "image/png": "[encoded data removed]",
      "text/plain": [
       "<Figure size 432x288 with 1 Axes>"
      ]
     },
     "metadata": {
      "needs_background": "light"
     },
     "output_type": "display_data"
    },
    {
     "name": "stdout",
     "output_type": "stream",
     "text": [
      "prediction:[4] ,label:4\n"
     ]
    },
    {
     "data": {
      "image/png": "[encoded data removed]",
      "text/plain": [
       "<Figure size 432x288 with 1 Axes>"
      ]
     },
     "metadata": {
      "needs_background": "light"
     },
     "output_type": "display_data"
    }
   ],
   "source": [
    "test_prediction(0, w1,b1,w2,b2)\n",
    "test_prediction(1, w1,b1,w2,b2)"
   ]
  },
  {
   "cell_type": "code",
   "execution_count": 43,
   "metadata": {},
   "outputs": [
    {
     "name": "stdout",
     "output_type": "stream",
     "text": [
      "prediction:[2] ,label:2\n"
     ]
    },
    {
     "data": {
      "image/png": "[encoded data removed]",
      "text/plain": [
       "<Figure size 432x288 with 1 Axes>"
      ]
     },
     "metadata": {
      "needs_background": "light"
     },
     "output_type": "display_data"
    },
    {
     "name": "stdout",
     "output_type": "stream",
     "text": [
      "prediction:[3] ,label:8\n"
     ]
    },
    {
     "data": {
      "image/png": "[encoded data removed]",
      "text/plain": [
       "<Figure size 432x288 with 1 Axes>"
      ]
     },
     "metadata": {
      "needs_background": "light"
     },
     "output_type": "display_data"
    },
    {
     "name": "stdout",
     "output_type": "stream",
     "text": [
      "prediction:[0] ,label:0\n"
     ]
    },
    {
     "data": {
      "image/png": "[encoded data removed]",
      "text/plain": [
       "<Figure size 432x288 with 1 Axes>"
      ]
     },
     "metadata": {
      "needs_background": "light"
     },
     "output_type": "display_data"
    },
    {
     "name": "stdout",
     "output_type": "stream",
     "text": [
      "prediction:[4] ,label:4\n"
     ]
    },
    {
     "data": {
      "image/png": "[encoded data removed]",
      "text/plain": [
       "<Figure size 432x288 with 1 Axes>"
      ]
     },
     "metadata": {
      "needs_background": "light"
     },
     "output_type": "display_data"
    }
   ],
   "source": [
    "test_prediction(12, w1,b1,w2,b2)\n",
    "test_prediction(11, w1,b1,w2,b2)\n",
    "test_prediction(80, w1,b1,w2,b2)\n",
    "test_prediction(13, w1,b1,w2,b2)"
   ]
  }
 ],
 "metadata": {
  "kernelspec": {
   "display_name": "venv",
   "language": "python",
   "name": "python3"
  },
  "language_info": {
   "codemirror_mode": {
    "name": "ipython",
    "version": 3
   },
   "file_extension": ".py",
   "mimetype": "text/x-python",
   "name": "python",
   "nbconvert_exporter": "python",
   "pygments_lexer": "ipython3",
   "version": "3.10.6"
  },
  "orig_nbformat": 4
 },
 "nbformat": 4,
 "nbformat_minor": 2
}
